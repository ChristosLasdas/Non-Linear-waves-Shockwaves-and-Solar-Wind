{
 "cells": [
  {
   "cell_type": "code",
   "execution_count": 168,
   "metadata": {},
   "outputs": [
    {
     "data": {
      "image/png": "[encoded data removed]",
      "text/plain": [
       "<Figure size 500x300 with 1 Axes>"
      ]
     },
     "metadata": {},
     "output_type": "display_data"
    }
   ],
   "source": [
    "import numpy as np\n",
    "import matplotlib.pyplot as plt\n",
    "import matplotlib\n",
    "import scienceplots\n",
    "\n",
    "plt.style.use(['science', 'notebook'])\n",
    "plt.rcParams.update({\"text.usetex\" : True})\n",
    "\n",
    "for n in [50000]:  # number of iterations\n",
    "    nr = 101  # r resolution\n",
    "\n",
    "    r_min = 1.\n",
    "    r_max = 11.\n",
    "\n",
    "    eta = 0.1\n",
    "    K = 1.\n",
    "    GM = 5.\n",
    "\n",
    "    t = 0.\n",
    "    \n",
    "    dr = (r_max - r_min) / (nr - 1)\n",
    "    dt = dr * 0.01\n",
    "\n",
    "    rho = np.ones(nr) * 0.01\n",
    "    v = np.zeros(nr)\n",
    "\n",
    "    drho_dt = np.zeros(nr)\n",
    "    dv_dt = np.zeros(nr)\n",
    "\n",
    "    t = 0.\n",
    "\n",
    "\n",
    "    #initial conditions\n",
    "    rho[0] = 1.\n",
    "    v[0] = 0.3\n",
    "    \n",
    "\n",
    "    r = np.linspace(r_min, r_max, nr)\n",
    "\n",
    "\n",
    "    for k in range(0, n):\n",
    "\n",
    "        for i in range(1, nr-1):\n",
    "            \n",
    "            if v[i] >= 0:\n",
    "                drho_dt[i] = - ( 1 / r[i]**2 ) * ( 2 * r[i] * rho[i] * v[i] + r[i]**2 * v[i] * ( ( rho[i] - rho[i - 1] ) / dr ) \\\n",
    "                             + r[i]**2 * rho[i] * ( v[i + 1] - v[i - 1] ) / ( 2 * dr )  )\n",
    "        \n",
    "                dv_dt[i] = - v[i] * ( ( v[i] - v[i - 1] ) / dr ) - K / rho[i] * ( ( rho[i + 1] - rho[i - 1] ) / ( 2 * dr ) ) \\\n",
    "                           - GM / r[i]**2 + eta * (2 / r[i] * (v[i] - v[i - 1]) / (dr) + ( v[i + 1] - 2 * v[i] + v[i - 1] ) / ( dr**2 ))\n",
    "\n",
    "            elif v[i] < 0:\n",
    "                drho_dt[i] = - ( 1 / r[i]**2 ) * ( 2 * r[i] * rho[i] * v[i] + r[i]**2 * v[i] * ( ( rho[i + 1] - rho[i] ) / dr ) \\\n",
    "                        + r[i]**2 * rho[i] * ( v[i + 1] - v[i - 1] ) / ( 2 * dr )  )\n",
    "            \n",
    "                dv_dt[i] = - v[i] * ( ( v[i + 1] - v[i] ) / dr ) - K / rho[i] * ( ( rho[i + 1] - rho[i - 1] ) / ( 2 * dr ) ) \\\n",
    "                           - GM / r[i]**2 + eta * (2 / r[i] * (v[i + 1] - v[i]) / (dr) + ( v[i + 1] - 2 * v[i] + v[i - 1] ) / ( dr**2 ))     \n",
    "    \n",
    "        for i in range(1, nr-1):\n",
    "\n",
    "            rho[i] = rho[i] + drho_dt[i] * dt\n",
    "            v[i] = v[i] + dv_dt[i] * dt\n",
    "            \n",
    "        t = t + dt\n",
    "\n",
    "        v[nr - 1] = v[nr - 2]\n",
    "        rho[nr - 1] = rho[nr - 2]\n",
    "        \n",
    "        \n",
    "    # Here we plot the results\n",
    "\n",
    "    fig = plt.figure(figsize=(5, 3))\n",
    "    ax1 = fig.add_subplot(1,1,1, xlim=[r_min, r_max])\n",
    "    plt.plot(r, v)\n",
    "    \n",
    "\n",
    "    plt.xlabel('r')\n",
    "    plt.ylabel('Velocity')\n",
    "    plt.title(f\"t={round(t,1)}\")\n",
    "    plt.ylim(min(v),max(v))\n",
    "    \n",
    "\n",
    "    # fig = plt.figure(figsize=(5, 3))\n",
    "    # ax1 = fig.add_subplot(1,1,1, xlim=[r_min, r_max])\n",
    "    # plt.plot(r, rho)\n",
    "    # plt.xlabel('r')\n",
    "    # plt.ylabel('Density')\n",
    "    # plt.title(f\"t={t}\")\n",
    "   \n",
    "    plt.show()\n",
    "\n",
    "\n",
    "\n"
   ]
  },
  {
   "cell_type": "code",
   "execution_count": 165,
   "metadata": {},
   "outputs": [
    {
     "data": {
      "text/plain": [
       "0.5624999999999999"
      ]
     },
     "execution_count": 165,
     "metadata": {},
     "output_type": "execute_result"
    }
   ],
   "source": [
    "(0.3-0.192)/0.192"
   ]
  },
  {
   "cell_type": "code",
   "execution_count": null,
   "metadata": {},
   "outputs": [
    {
     "name": "stdout",
     "output_type": "stream",
     "text": [
      "i = 1,-0.0007460890484116689\n",
      "i = 2,-0.0003973694841712394\n",
      "i = 3,-0.00017413990339726348\n",
      "i = 4,-0.0001505827308004165\n",
      "i = 5,-0.000153137768238637\n",
      "i = 6,-0.00016032198108151263\n",
      "i = 7,-0.0001682438657952673\n",
      "i = 8,-0.00017602474065727541\n",
      "i = 9,-0.00018346287408897016\n",
      "i = 10,-0.00019053506686872446\n",
      "i = 11,-0.00019726740172143487\n",
      "i = 12,-0.0002036972931256549\n",
      "i = 13,-0.00020986174047005896\n",
      "i = 14,-0.0002157939016897946\n",
      "i = 15,-0.00022152245278996355\n",
      "i = 16,-0.00022707186867635537\n",
      "i = 17,-0.00023246296432630903\n",
      "i = 18,-0.0002377134592568414\n",
      "i = 19,-0.00024283848675778208\n"
     ]
    }
   ],
   "source": [
    "for i in range(1, 20):\n",
    "\n",
    "    print(f'i = {i},{- v[i] * ( ( v[i] - v[i - 1] ) / dr ) - K / rho[i] * ( ( rho[i + 1] - rho[i - 1] ) / ( 2 * dr ) ) - GM / r[i]**2 + eta * (2 / r[i] * (v[i] - v[i - 1]) / (dr) + ( v[i + 1] - 2 * v[i] + v[i - 1] ) / ( dr**2 ))}')"
   ]
  }
 ],
 "metadata": {
  "kernelspec": {
   "display_name": "Python 3",
   "language": "python",
   "name": "python3"
  },
  "language_info": {
   "codemirror_mode": {
    "name": "ipython",
    "version": 3
   },
   "file_extension": ".py",
   "mimetype": "text/x-python",
   "name": "python",
   "nbconvert_exporter": "python",
   "pygments_lexer": "ipython3",
   "version": "3.11.2"
  },
  "orig_nbformat": 4
 },
 "nbformat": 4,
 "nbformat_minor": 2
}
